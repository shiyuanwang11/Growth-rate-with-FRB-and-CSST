{
 "cells": [
  {
   "cell_type": "code",
   "execution_count": 1,
   "metadata": {},
   "outputs": [],
   "source": [
    "from colossus.cosmology import cosmology\n",
    "cosmo=cosmology.setCosmology('planck18')\n",
    "import numpy as np\n",
    "import Func\n",
    "from cobaya.run import run\n",
    "from getdist import loadMCSamples, plots"
   ]
  },
  {
   "cell_type": "markdown",
   "metadata": {},
   "source": [
    "# data and fid"
   ]
  },
  {
   "cell_type": "code",
   "execution_count": 2,
   "metadata": {},
   "outputs": [],
   "source": [
    "zz = np.array([0.15,0.45,0.75])\n",
    "# error of (f*sigma8) at zz\n",
    "err_rsd = np.array([0.037622781639503125,0.013120288894571081,0.00801293154199452])\n",
    "err_rsd_ksz = np.array([0.0048570460593981195,0.0029804102835748773,0.0028959660223023967])"
   ]
  },
  {
   "cell_type": "code",
   "execution_count": 3,
   "metadata": {},
   "outputs": [],
   "source": [
    "# Fiducial values  \n",
    "omegam_fid = 0.31655132\n",
    "sigma8_fid = 0.8119776\n",
    "\n",
    "fs8 = Func.growthrate(Om0=omegam_fid, z=zz) * Func.sigma(sigma8=sigma8_fid, Om0=omegam_fid, z=zz)\n",
    "ref=[omegam_fid,sigma8_fid]"
   ]
  },
  {
   "cell_type": "code",
   "execution_count": null,
   "metadata": {},
   "outputs": [],
   "source": []
  },
  {
   "cell_type": "code",
   "execution_count": 4,
   "metadata": {},
   "outputs": [
    {
     "data": {
      "text/plain": [
       "(array(0.52970696), 0.8119776)"
      ]
     },
     "execution_count": 4,
     "metadata": {},
     "output_type": "execute_result"
    }
   ],
   "source": [
    "Func.growthrate(Om0=omegam_fid, z=0.),Func.sigma(sigma8=sigma8_fid, Om0=omegam_fid, z=0.)"
   ]
  },
  {
   "cell_type": "code",
   "execution_count": 5,
   "metadata": {},
   "outputs": [
    {
     "data": {
      "text/plain": [
       "array([0.46022862, 0.47699105, 0.4583774 ])"
      ]
     },
     "execution_count": 5,
     "metadata": {},
     "output_type": "execute_result"
    }
   ],
   "source": [
    "fs8"
   ]
  },
  {
   "cell_type": "markdown",
   "metadata": {},
   "source": [
    "# RSD"
   ]
  },
  {
   "cell_type": "code",
   "execution_count": 6,
   "metadata": {},
   "outputs": [
    {
     "name": "stdout",
     "output_type": "stream",
     "text": [
      "[output] Output to be read-from/written-into folder 'chains_rsd', with prefix 'rsd'\n",
      "[output] Found existing info files with the requested output prefix: 'chains_rsd/rsd'\n",
      "[output] Will delete previous products ('force' was requested).\n",
      "[loglike] Initialized external likelihood.\n",
      "[mcmc] Getting initial point... (this may take a few seconds)\n",
      "[mcmc] Initial point: omegam:0.3165513, sigma8:0.8119776\n",
      "[model] Measuring speeds... (this may take a few seconds)\n",
      "[model] Setting measured speeds (per sec): {loglike: 418.0}\n",
      "[prior] *WARNING* Reference pdf not defined or improper for some parameters. Using prior's sigma instead for them.\n",
      "[mcmc] Covariance matrix not present. We will start learning the covariance of the proposal earlier: R-1 = 30 (would be 2 if all params loaded).\n",
      "[mcmc] Sampling!\n",
      "[mcmc] Progress @ 2024-08-30 16:23:38 : 1 steps taken, and 0 accepted.\n",
      "[mcmc] Learn + convergence test @ 80 samples accepted.\n",
      "[mcmc]  - Acceptance rate: 0.038\n",
      "[mcmc]  - Convergence of means: R-1 = 2.989808 after 64 accepted steps\n",
      "[mcmc]  - Updated covariance matrix of proposal pdf.\n",
      "[mcmc] Learn + convergence test @ 160 samples accepted.\n",
      "[mcmc]  - Acceptance rate: 0.087\n",
      "[mcmc]  - Convergence of means: R-1 = 0.712372 after 128 accepted steps\n",
      "[mcmc]  - Updated covariance matrix of proposal pdf.\n",
      "[mcmc] Learn + convergence test @ 240 samples accepted.\n",
      "[mcmc]  - Acceptance rate: 0.133\n",
      "[mcmc]  - Convergence of means: R-1 = 0.793035 after 192 accepted steps\n",
      "[mcmc]  - Updated covariance matrix of proposal pdf.\n",
      "[mcmc] Learn + convergence test @ 320 samples accepted.\n",
      "[mcmc]  - Acceptance rate: 0.163\n",
      "[mcmc]  - Convergence of means: R-1 = 0.188263 after 256 accepted steps\n",
      "[mcmc]  - Updated covariance matrix of proposal pdf.\n",
      "[mcmc] Learn + convergence test @ 400 samples accepted.\n",
      "[mcmc]  - Acceptance rate: 0.195\n",
      "[mcmc]  - Convergence of means: R-1 = 0.266823 after 320 accepted steps\n",
      "[mcmc]  - Updated covariance matrix of proposal pdf.\n",
      "[mcmc] Learn + convergence test @ 480 samples accepted.\n",
      "[mcmc]  - Acceptance rate: 0.189\n",
      "[mcmc]  - Convergence of means: R-1 = 0.169286 after 384 accepted steps\n",
      "[mcmc]  - Updated covariance matrix of proposal pdf.\n",
      "[mcmc] Learn + convergence test @ 560 samples accepted.\n",
      "[mcmc]  - Acceptance rate: 0.193\n",
      "[mcmc]  - Convergence of means: R-1 = 0.124451 after 448 accepted steps\n",
      "[mcmc]  - Updated covariance matrix of proposal pdf.\n",
      "[mcmc] Learn + convergence test @ 640 samples accepted.\n",
      "[mcmc]  - Acceptance rate: 0.193\n",
      "[mcmc]  - Convergence of means: R-1 = 0.072125 after 512 accepted steps\n",
      "[mcmc]  - Updated covariance matrix of proposal pdf.\n",
      "[mcmc] Learn + convergence test @ 720 samples accepted.\n",
      "[mcmc]  - Acceptance rate: 0.193\n",
      "[mcmc]  - Convergence of means: R-1 = 0.036876 after 576 accepted steps\n",
      "[mcmc]  - Updated covariance matrix of proposal pdf.\n",
      "[mcmc] Learn + convergence test @ 800 samples accepted.\n",
      "[mcmc]  - Acceptance rate: 0.197\n",
      "[mcmc]  - Convergence of means: R-1 = 0.021447 after 640 accepted steps\n",
      "[mcmc]  - Updated covariance matrix of proposal pdf.\n",
      "[mcmc] Learn + convergence test @ 880 samples accepted.\n",
      "[mcmc]  - Acceptance rate: 0.204\n",
      "[mcmc]  - Convergence of means: R-1 = 0.010207 after 704 accepted steps\n",
      "[mcmc]  - Updated covariance matrix of proposal pdf.\n",
      "[mcmc] Learn + convergence test @ 960 samples accepted.\n",
      "[mcmc]  - Acceptance rate: 0.207\n",
      "[mcmc]  - Convergence of means: R-1 = 0.033100 after 768 accepted steps\n",
      "[mcmc]  - Updated covariance matrix of proposal pdf.\n",
      "[mcmc] Learn + convergence test @ 1040 samples accepted.\n",
      "[mcmc]  - Acceptance rate: 0.211\n",
      "[mcmc]  - Convergence of means: R-1 = 0.013947 after 832 accepted steps\n",
      "[mcmc]  - Updated covariance matrix of proposal pdf.\n",
      "[mcmc] Learn + convergence test @ 1120 samples accepted.\n",
      "[mcmc]  - Acceptance rate: 0.213\n",
      "[mcmc]  - Convergence of means: R-1 = 0.015932 after 896 accepted steps\n",
      "[mcmc]  - Updated covariance matrix of proposal pdf.\n",
      "[mcmc] Learn + convergence test @ 1200 samples accepted.\n",
      "[mcmc]  - Acceptance rate: 0.213\n",
      "[mcmc]  - Convergence of means: R-1 = 0.015473 after 960 accepted steps\n",
      "[mcmc]  - Updated covariance matrix of proposal pdf.\n",
      "[mcmc] Learn + convergence test @ 1280 samples accepted.\n",
      "[mcmc]  - Acceptance rate: 0.217\n",
      "[mcmc]  - Convergence of means: R-1 = 0.023411 after 1024 accepted steps\n",
      "[mcmc]  - Updated covariance matrix of proposal pdf.\n",
      "[mcmc] Learn + convergence test @ 1360 samples accepted.\n",
      "[mcmc]  - Acceptance rate: 0.216\n",
      "[mcmc]  - Convergence of means: R-1 = 0.012717 after 1088 accepted steps\n",
      "[mcmc]  - Updated covariance matrix of proposal pdf.\n",
      "[mcmc] Learn + convergence test @ 1440 samples accepted.\n",
      "[mcmc]  - Acceptance rate: 0.212\n",
      "[mcmc]  - Convergence of means: R-1 = 0.020897 after 1152 accepted steps\n",
      "[mcmc]  - Updated covariance matrix of proposal pdf.\n",
      "[mcmc] Learn + convergence test @ 1520 samples accepted.\n",
      "[mcmc]  - Acceptance rate: 0.214\n",
      "[mcmc]  - Convergence of means: R-1 = 0.029636 after 1216 accepted steps\n",
      "[mcmc]  - Updated covariance matrix of proposal pdf.\n",
      "[mcmc] Learn + convergence test @ 1600 samples accepted.\n",
      "[mcmc]  - Acceptance rate: 0.213\n",
      "[mcmc]  - Convergence of means: R-1 = 0.008325 after 1280 accepted steps\n",
      "[mcmc]  - Updated covariance matrix of proposal pdf.\n",
      "[mcmc] Learn + convergence test @ 1680 samples accepted.\n",
      "[mcmc]  - Acceptance rate: 0.213\n",
      "[mcmc]  - Convergence of means: R-1 = 0.016692 after 1344 accepted steps\n",
      "[mcmc]  - Updated covariance matrix of proposal pdf.\n",
      "[mcmc] Learn + convergence test @ 1760 samples accepted.\n",
      "[mcmc]  - Acceptance rate: 0.216\n",
      "[mcmc]  - Convergence of means: R-1 = 0.007797 after 1408 accepted steps\n",
      "[mcmc]  - Updated covariance matrix of proposal pdf.\n",
      "[mcmc] Learn + convergence test @ 1840 samples accepted.\n",
      "[mcmc]  - Acceptance rate: 0.217\n",
      "[mcmc]  - Convergence of means: R-1 = 0.021204 after 1472 accepted steps\n",
      "[mcmc]  - Updated covariance matrix of proposal pdf.\n",
      "[mcmc] Learn + convergence test @ 1920 samples accepted.\n",
      "[mcmc]  - Acceptance rate: 0.218\n",
      "[mcmc]  - Convergence of means: R-1 = 0.026557 after 1536 accepted steps\n",
      "[mcmc]  - Updated covariance matrix of proposal pdf.\n",
      "[mcmc] Learn + convergence test @ 2000 samples accepted.\n",
      "[mcmc]  - Acceptance rate: 0.219\n",
      "[mcmc]  - Convergence of means: R-1 = 0.015478 after 1600 accepted steps\n",
      "[mcmc]  - Updated covariance matrix of proposal pdf.\n",
      "[mcmc] Learn + convergence test @ 2080 samples accepted.\n",
      "[mcmc]  - Acceptance rate: 0.218\n",
      "[mcmc]  - Convergence of means: R-1 = 0.014589 after 1664 accepted steps\n",
      "[mcmc]  - Updated covariance matrix of proposal pdf.\n",
      "[mcmc] Learn + convergence test @ 2160 samples accepted.\n",
      "[mcmc]  - Acceptance rate: 0.218\n",
      "[mcmc]  - Convergence of means: R-1 = 0.010934 after 1728 accepted steps\n",
      "[mcmc]  - Updated covariance matrix of proposal pdf.\n",
      "[mcmc] Learn + convergence test @ 2240 samples accepted.\n",
      "[mcmc]  - Acceptance rate: 0.219\n",
      "[mcmc]  - Convergence of means: R-1 = 0.007365 after 1792 accepted steps\n",
      "[mcmc]  - Updated covariance matrix of proposal pdf.\n",
      "[mcmc] Learn + convergence test @ 2320 samples accepted.\n",
      "[mcmc]  - Acceptance rate: 0.220\n",
      "[mcmc]  - Convergence of means: R-1 = 0.001953 after 1856 accepted steps\n",
      "[mcmc]  - Convergence of bounds: R-1 = 0.054473 after 2320 accepted steps\n",
      "[mcmc] The run has converged!\n",
      "[mcmc] Sampling complete after 2320 accepted steps.\n"
     ]
    }
   ],
   "source": [
    "def da(z_array, omegam):\n",
    "    results = []\n",
    "    for z in z_array:\n",
    "        int_z = np.linspace(0, z, 50)\n",
    "        E = Func.Ez(int_z, omegam)\n",
    "        integral = np.trapz(1./E, int_z)\n",
    "        results.append(integral)\n",
    "    return np.array(results)\n",
    "\n",
    "def log_like1(omegam,sigma8):\n",
    "\n",
    "    E = Func.Ez(zz, omegam)\n",
    "    E_fid = Func.Ez(zz, omegam_fid)\n",
    "\n",
    "    D = da(zz, omegam)\n",
    "    D_fid = da(zz, omegam_fid)\n",
    "\n",
    "    f_th = Func.growthrate(Om0=omegam,z=zz)\n",
    "    sigma8_th = Func.sigma(sigma8=sigma8, Om0=omegam,z=zz)\n",
    "    \n",
    "    Chi_1 = (fs8 - (E*D)/(E_fid*D_fid)*sigma8_th*f_th)\n",
    "\n",
    "    Chi_2 = err_rsd**2\n",
    "    Chi_C = Chi_1**2/Chi_2\n",
    "    Chi = np.sum(Chi_C)\n",
    "    \n",
    "    return -0.5*Chi\n",
    "\n",
    "\n",
    "info = {\"likelihood\": {\"loglike\": log_like1}, \\\n",
    "        \"params\": {\"omegam\": {\"prior\": {\"min\": 0.0, \"max\": 1.0},'ref': ref[0],\"latex\": r'\\Omega_m'}, \\\n",
    "                    \"sigma8\": {\"prior\": {\"min\": 0.0, \"max\": 1.0},'ref': ref[1],\"latex\": r'\\sigma8'}}, \\\n",
    "        \"sampler\": {\"mcmc\": {\"Rminus1_stop\": 0.01, \"max_tries\": 10000},},\\\n",
    "        \"output\": \"chains_rsd/rsd\"\n",
    "        }\n",
    "# ,\"proposal\": 0.001\n",
    "updated_info, sampler = run(info,force=True)"
   ]
  },
  {
   "cell_type": "code",
   "execution_count": 7,
   "metadata": {},
   "outputs": [
    {
     "name": "stdout",
     "output_type": "stream",
     "text": [
      "[root] *WARNING* outlier fraction 0.01810344827586207 \n",
      "cov is:\n",
      "[[ 0.00796255 -0.00472651]\n",
      " [-0.00472651  0.00318018]]\n",
      "fisher is:\n"
     ]
    },
    {
     "data": {
      "text/plain": [
       "array([[1066.30029574, 1584.77749668],\n",
       "       [1584.77749668, 2669.80634617]])"
      ]
     },
     "execution_count": 7,
     "metadata": {},
     "output_type": "execute_result"
    }
   ],
   "source": [
    "readsamps1 = loadMCSamples('chains_rsd/rsd')\n",
    "cov_rsd = readsamps1.cov(['omegam','sigma8'])\n",
    "print(\"cov is:\")\n",
    "print(cov_rsd)\n",
    "fisher_rsd = np.linalg.inv(cov_rsd)\n",
    "print(\"fisher is:\")\n",
    "np.array(fisher_rsd)"
   ]
  },
  {
   "cell_type": "markdown",
   "metadata": {},
   "source": [
    "# RSD and kSZ"
   ]
  },
  {
   "cell_type": "code",
   "execution_count": 8,
   "metadata": {},
   "outputs": [
    {
     "name": "stdout",
     "output_type": "stream",
     "text": [
      "[output] Output to be read-from/written-into folder 'chains_rsd_ksz', with prefix 'rsd_ksz'\n",
      "[output] Found existing info files with the requested output prefix: 'chains_rsd_ksz/rsd_ksz'\n",
      "[output] Will delete previous products ('force' was requested).\n",
      "[loglike] Initialized external likelihood.\n",
      "[mcmc] Getting initial point... (this may take a few seconds)\n",
      "[mcmc] Initial point: omegam:0.3165513, sigma8:0.8119776\n",
      "[model] Measuring speeds... (this may take a few seconds)\n",
      "[model] Setting measured speeds (per sec): {loglike: 365.0}\n",
      "[prior] *WARNING* Reference pdf not defined or improper for some parameters. Using prior's sigma instead for them.\n",
      "[mcmc] Covariance matrix not present. We will start learning the covariance of the proposal earlier: R-1 = 30 (would be 2 if all params loaded).\n",
      "[mcmc] Sampling!\n",
      "[mcmc] Progress @ 2024-08-30 16:24:07 : 1 steps taken, and 0 accepted.\n",
      "[mcmc] Learn + convergence test @ 80 samples accepted.\n",
      "[mcmc]  - Acceptance rate: 0.013\n",
      "[mcmc]  - Convergence of means: R-1 = 0.776409 after 64 accepted steps\n",
      "[mcmc]  - Updated covariance matrix of proposal pdf.\n",
      "[mcmc] Learn + convergence test @ 160 samples accepted.\n",
      "[mcmc]  - Acceptance rate: 0.029\n",
      "[mcmc]  - Convergence of means: R-1 = 0.389922 after 128 accepted steps\n",
      "[mcmc]  - Updated covariance matrix of proposal pdf.\n",
      "[mcmc] Learn + convergence test @ 240 samples accepted.\n",
      "[mcmc]  - Acceptance rate: 0.058\n",
      "[mcmc]  - Convergence of means: R-1 = 0.145279 after 192 accepted steps\n",
      "[mcmc]  - Updated covariance matrix of proposal pdf.\n",
      "[mcmc] Learn + convergence test @ 320 samples accepted.\n",
      "[mcmc]  - Acceptance rate: 0.112\n",
      "[mcmc]  - Convergence of means: R-1 = 0.092258 after 256 accepted steps\n",
      "[mcmc]  - Updated covariance matrix of proposal pdf.\n",
      "[mcmc] Learn + convergence test @ 400 samples accepted.\n",
      "[mcmc]  - Acceptance rate: 0.344\n",
      "[mcmc]  - Convergence of means: R-1 = 0.015478 after 320 accepted steps\n",
      "[mcmc]  - Updated covariance matrix of proposal pdf.\n",
      "[mcmc] Learn + convergence test @ 480 samples accepted.\n",
      "[mcmc]  - Acceptance rate: 0.336\n",
      "[mcmc]  - Convergence of means: R-1 = 0.094786 after 384 accepted steps\n",
      "[mcmc]  - Updated covariance matrix of proposal pdf.\n",
      "[mcmc] Learn + convergence test @ 560 samples accepted.\n",
      "[mcmc]  - Acceptance rate: 0.321\n",
      "[mcmc]  - Convergence of means: R-1 = 0.019554 after 448 accepted steps\n",
      "[mcmc]  - Updated covariance matrix of proposal pdf.\n",
      "[mcmc] Learn + convergence test @ 640 samples accepted.\n",
      "[mcmc]  - Acceptance rate: 0.315\n",
      "[mcmc]  - Convergence of means: R-1 = 0.013454 after 512 accepted steps\n",
      "[mcmc]  - Updated covariance matrix of proposal pdf.\n",
      "[mcmc] Learn + convergence test @ 720 samples accepted.\n",
      "[mcmc]  - Acceptance rate: 0.314\n",
      "[mcmc]  - Convergence of means: R-1 = 0.021179 after 576 accepted steps\n",
      "[mcmc]  - Updated covariance matrix of proposal pdf.\n",
      "[mcmc] Learn + convergence test @ 800 samples accepted.\n",
      "[mcmc]  - Acceptance rate: 0.310\n",
      "[mcmc]  - Convergence of means: R-1 = 0.055100 after 640 accepted steps\n",
      "[mcmc]  - Updated covariance matrix of proposal pdf.\n",
      "[mcmc] Learn + convergence test @ 880 samples accepted.\n",
      "[mcmc]  - Acceptance rate: 0.303\n",
      "[mcmc]  - Convergence of means: R-1 = 0.009648 after 704 accepted steps\n",
      "[mcmc]  - Updated covariance matrix of proposal pdf.\n",
      "[mcmc] Learn + convergence test @ 960 samples accepted.\n",
      "[mcmc]  - Acceptance rate: 0.309\n",
      "[mcmc]  - Convergence of means: R-1 = 0.028470 after 768 accepted steps\n",
      "[mcmc]  - Updated covariance matrix of proposal pdf.\n",
      "[mcmc] Learn + convergence test @ 1040 samples accepted.\n",
      "[mcmc]  - Acceptance rate: 0.310\n",
      "[mcmc]  - Convergence of means: R-1 = 0.033160 after 832 accepted steps\n",
      "[mcmc]  - Updated covariance matrix of proposal pdf.\n",
      "[mcmc] Learn + convergence test @ 1120 samples accepted.\n",
      "[mcmc]  - Acceptance rate: 0.308\n",
      "[mcmc]  - Convergence of means: R-1 = 0.009547 after 896 accepted steps\n",
      "[mcmc]  - Updated covariance matrix of proposal pdf.\n",
      "[mcmc] Learn + convergence test @ 1200 samples accepted.\n",
      "[mcmc]  - Acceptance rate: 0.311\n",
      "[mcmc]  - Convergence of means: R-1 = 0.030149 after 960 accepted steps\n",
      "[mcmc]  - Updated covariance matrix of proposal pdf.\n",
      "[mcmc] Learn + convergence test @ 1280 samples accepted.\n",
      "[mcmc]  - Acceptance rate: 0.309\n",
      "[mcmc]  - Convergence of means: R-1 = 0.013432 after 1024 accepted steps\n",
      "[mcmc]  - Updated covariance matrix of proposal pdf.\n",
      "[mcmc] Learn + convergence test @ 1360 samples accepted.\n",
      "[mcmc]  - Acceptance rate: 0.302\n",
      "[mcmc]  - Convergence of means: R-1 = 0.008928 after 1088 accepted steps\n",
      "[mcmc]  - Updated covariance matrix of proposal pdf.\n",
      "[mcmc] Learn + convergence test @ 1440 samples accepted.\n",
      "[mcmc]  - Acceptance rate: 0.299\n",
      "[mcmc]  - Convergence of means: R-1 = 0.011191 after 1152 accepted steps\n",
      "[mcmc]  - Updated covariance matrix of proposal pdf.\n",
      "[mcmc] Learn + convergence test @ 1520 samples accepted.\n",
      "[mcmc]  - Acceptance rate: 0.300\n",
      "[mcmc]  - Convergence of means: R-1 = 0.014184 after 1216 accepted steps\n",
      "[mcmc]  - Updated covariance matrix of proposal pdf.\n",
      "[mcmc] Learn + convergence test @ 1600 samples accepted.\n",
      "[mcmc]  - Acceptance rate: 0.300\n",
      "[mcmc]  - Convergence of means: R-1 = 0.015644 after 1280 accepted steps\n",
      "[mcmc]  - Updated covariance matrix of proposal pdf.\n",
      "[mcmc] Learn + convergence test @ 1680 samples accepted.\n",
      "[mcmc]  - Acceptance rate: 0.298\n",
      "[mcmc]  - Convergence of means: R-1 = 0.003465 after 1344 accepted steps\n",
      "[mcmc]  - Updated covariance matrix of proposal pdf.\n",
      "[mcmc] Learn + convergence test @ 1760 samples accepted.\n",
      "[mcmc]  - Acceptance rate: 0.296\n",
      "[mcmc]  - Convergence of means: R-1 = 0.005253 after 1408 accepted steps\n",
      "[mcmc]  - Convergence of bounds: R-1 = 0.091833 after 1760 accepted steps\n",
      "[mcmc] The run has converged!\n",
      "[mcmc] Sampling complete after 1760 accepted steps.\n"
     ]
    }
   ],
   "source": [
    "def log_like2(omegam,sigma8):\n",
    "\n",
    "    E = Func.Ez(zz, omegam)\n",
    "    E_fid = Func.Ez(zz, omegam_fid)\n",
    "\n",
    "    D = da(zz, omegam)\n",
    "    D_fid = da(zz, omegam_fid)\n",
    "    \n",
    "    f_th = Func.growthrate(Om0=omegam,z=zz)\n",
    "    sigma8_th = Func.sigma(sigma8=sigma8, Om0=omegam,z=zz)\n",
    "    \n",
    "    Chi_1 = (fs8 - (E*D)/(E_fid*D_fid)*sigma8_th*f_th)\n",
    "\n",
    "    Chi_2 = err_rsd_ksz**2\n",
    "    Chi_C = Chi_1**2/Chi_2\n",
    "    Chi = np.sum(Chi_C)\n",
    "    \n",
    "    return -0.5*Chi\n",
    "\n",
    "\n",
    "info = {\"likelihood\": {\"loglike\": log_like2}, \\\n",
    "        \"params\": {\"omegam\": {\"prior\": {\"min\": 0.0, \"max\": 1.0},'ref': ref[0],\"latex\": r'\\Omega_m'}, \\\n",
    "                    \"sigma8\": {\"prior\": {\"min\": 0.0, \"max\": 1.0},'ref': ref[1],\"latex\": r'\\sigma8'}}, \\\n",
    "        \"sampler\": {\"mcmc\": {\"Rminus1_stop\": 0.01, \"max_tries\": 10000},},\\\n",
    "        \"output\": \"chains_rsd_ksz/rsd_ksz\"\n",
    "        }\n",
    "# ,\"proposal\": 0.001\n",
    "updated_info, sampler = run(info,force=True)"
   ]
  },
  {
   "cell_type": "code",
   "execution_count": 9,
   "metadata": {},
   "outputs": [
    {
     "name": "stdout",
     "output_type": "stream",
     "text": [
      "[root] *WARNING* outlier fraction 0.03409090909090909 \n",
      "cov is:\n",
      "[[ 0.00024907 -0.00018977]\n",
      " [-0.00018977  0.00015457]]\n",
      "fisher is:\n"
     ]
    },
    {
     "data": {
      "text/plain": [
       "array([[ 62173.54993919,  76331.72969844],\n",
       "       [ 76331.72969844, 100183.3901806 ]])"
      ]
     },
     "execution_count": 9,
     "metadata": {},
     "output_type": "execute_result"
    }
   ],
   "source": [
    "readsamps2 = loadMCSamples('chains_rsd_ksz/rsd_ksz')\n",
    "cov_rsd_ksz = readsamps2.cov(['omegam','sigma8'])\n",
    "print(\"cov is:\")\n",
    "print(cov_rsd_ksz)\n",
    "fisher_rsd_ksz = np.linalg.inv(cov_rsd_ksz)\n",
    "print(\"fisher is:\")\n",
    "np.array(fisher_rsd_ksz)"
   ]
  },
  {
   "cell_type": "markdown",
   "metadata": {},
   "source": [
    "# joint"
   ]
  },
  {
   "cell_type": "code",
   "execution_count": 5,
   "metadata": {},
   "outputs": [],
   "source": [
    "import numpy as np\n",
    "from getdist import loadMCSamples, plots\n",
    "import matplotlib.pyplot as plt\n",
    "\n",
    "def rgba(cc):\n",
    "    return tuple(cc/255.)\n",
    "c1 = rgba(np.array([41.,157.,143.,255.]))\n",
    "c2 = rgba(np.array([233.,196.,106.,255.]))\n",
    "c3 = rgba(np.array([216.,118.,89.,255.]))\n",
    "\n",
    "g=plots.get_subplot_plotter(chain_dir=[\n",
    "                                       '/home/wangsy2/mcmc/ori/chains_rsd',\n",
    "                                       '/home/wangsy2/mcmc/ori/chains_rsd_ksz',\n",
    "                                       '/home/wangsy2/Planck_2018_chains/base/plikHM_TTTEEE_lowl_lowE',\n",
    "                                       ],\n",
    "                                       width_inch=7)\n",
    "roots = ['rsd','rsd_ksz','base_plikHM_TTTEEE_lowl_lowE']\n",
    "params = ['sigma8','omegam']\n",
    "\n",
    "g.settings.figure_legend_frame = False\n",
    "g.settings.alpha_filled_add=0.8\n",
    "g.settings.title_limit_fontsize = 17\n",
    "\n",
    "g.triangle_plot(roots, params, filled=True, legend_labels=['RSD','RSD+kSZ+FRB', 'Planck'],\n",
    "                contour_colors=[c1,c3,c2], param_limits={'sigma8':[0.6, 1.0], 'omegam':[0.1, 0.6]})\n",
    "g.settings.legend_fontsize = 17\n",
    "\n",
    "\n",
    "for ax in g.subplots[:, :].flat:\n",
    "    if ax is not None:  # 检查 ax 是否为 None\n",
    "        ax.minorticks_on()\n",
    "        ax.tick_params(which='both', direction='in', top=True, right=True)\n",
    "        ax.tick_params(which='minor', length=4)\n",
    "        ax.tick_params(which='major', length=7)\n",
    "        ax.set_\n",
    "\n",
    "\n",
    "g.export('joint_new.pdf')\n"
   ]
  },
  {
   "cell_type": "code",
   "execution_count": 3,
   "metadata": {},
   "outputs": [],
   "source": [
    "import numpy as np\n",
    "from getdist import loadMCSamples, plots\n",
    "import matplotlib.pyplot as plt\n",
    "\n",
    "def rgba(cc):\n",
    "    return tuple(cc/255.)\n",
    "c1 = rgba(np.array([41.,157.,143.,255.]))\n",
    "c2 = rgba(np.array([233.,196.,106.,255.]))\n",
    "c3 = rgba(np.array([216.,118.,89.,255.]))\n",
    "\n",
    "g = plots.get_subplot_plotter(\n",
    "    chain_dir=[\n",
    "        '/home/wangsy2/mcmc/ori/chains_rsd',\n",
    "        '/home/wangsy2/mcmc/ori/chains_rsd_ksz',\n",
    "        '/home/wangsy2/Planck_2018_chains/base/plikHM_TTTEEE_lowl_lowE',\n",
    "    ],\n",
    "    width_inch=7\n",
    ")\n",
    "\n",
    "roots = ['rsd', 'rsd_ksz', 'base_plikHM_TTTEEE_lowl_lowE']\n",
    "params = ['sigma8', 'omegam']\n",
    "\n",
    "# 设置全局字体参数\n",
    "g.settings.figure_legend_frame = False\n",
    "g.settings.alpha_filled_add = 0.8\n",
    "g.settings.title_limit_fontsize = 16\n",
    "\n",
    "# 调整字体大小设置\n",
    "g.settings.axes_labelsize = 18    # 坐标轴标签（如 sigma8, omegam）的字体大小\n",
    "#g.settings.tick_labelsize = 16    # 坐标轴刻度数字的字体大小\n",
    "g.settings.legend_fontsize = 14  # 图例字体大小\n",
    "\n",
    "# 生成三角形图\n",
    "g.triangle_plot(\n",
    "    roots, \n",
    "    params, \n",
    "    filled=True, \n",
    "    legend_labels=['RSD', 'RSD+kSZ', 'Planck'],\n",
    "    contour_colors=[c1, c3, c2], \n",
    "    param_limits={'sigma8': [0.6, 1.0], 'omegam': [0.1, 0.6]}\n",
    ")\n",
    "\n",
    "# 进一步调整刻度样式\n",
    "for ax in g.subplots[:, :].flat:\n",
    "    if ax is not None:\n",
    "        ax.minorticks_on()\n",
    "        # 设置刻度方向并调整标签字体大小\n",
    "        ax.tick_params(which='both', direction='in', top=True, right=True, labelsize=16)\n",
    "        ax.tick_params(which='minor', length=4)\n",
    "        ax.tick_params(which='major', length=7)\n",
    "        # 手动确保轴标签字体大小（如果全局设置未生效）\n",
    "        ax.xaxis.label.set_size(18)\n",
    "        ax.yaxis.label.set_size(18)\n",
    "\n",
    "g.export('joint_new_ds.pdf')"
   ]
  },
  {
   "cell_type": "markdown",
   "metadata": {},
   "source": [
    "## add fisher"
   ]
  },
  {
   "cell_type": "code",
   "execution_count": 11,
   "metadata": {},
   "outputs": [],
   "source": [
    "# ['omegabh2','omegach2','theta','tau','logA','ns','omegam','sigma8','S8']\n",
    "\n",
    "#read\n",
    "planck_fish = np.array([[ 3.02472812e+10, -2.69892585e+10,  5.67796164e+09,\n",
    "         5.44639949e+05, -1.40040253e+09, -1.05784155e+09,\n",
    "         3.59660942e+09,  4.04035934e+09, -5.75015842e+08],\n",
    "       [-2.69892585e+10,  2.41705642e+10, -5.16707864e+09,\n",
    "         7.28149628e+02,  1.24243004e+09,  9.38917646e+08,\n",
    "        -3.20084244e+09, -3.56209167e+09,  4.87584827e+08],\n",
    "       [ 5.67796164e+09, -5.16707864e+09,  1.41305566e+09,\n",
    "         1.83769078e+05, -2.23565820e+08, -1.69131096e+08,\n",
    "         6.14586769e+08,  5.54702893e+08, -3.95875746e+06],\n",
    "       [ 5.44639949e+05,  7.28149631e+02,  1.83769078e+05,\n",
    "         1.54601952e+05, -6.85635494e+04, -1.26040295e+04,\n",
    "        -1.48369814e+05, -1.44648748e+05,  1.38575209e+05],\n",
    "       [-1.40040253e+09,  1.24243004e+09, -2.23565820e+08,\n",
    "        -6.85635494e+04,  6.99160695e+07,  5.27844530e+07,\n",
    "        -1.74466475e+08, -2.12588468e+08,  3.93373407e+07],\n",
    "       [-1.05784155e+09,  9.38917646e+08, -1.69131096e+08,\n",
    "        -1.26040295e+04,  5.27844530e+07,  3.99808749e+07,\n",
    "        -1.31780244e+08, -1.60540099e+08,  2.96860809e+07],\n",
    "       [ 3.59660942e+09, -3.20084244e+09,  6.14586769e+08,\n",
    "        -1.48369814e+05, -1.74466475e+08, -1.31780244e+08,\n",
    "         6.10722977e+08,  6.53352806e+08, -2.17534724e+08],\n",
    "       [ 4.04035934e+09, -3.56209167e+09,  5.54702893e+08,\n",
    "        -1.44648748e+05, -2.12588468e+08, -1.60540099e+08,\n",
    "         6.53352806e+08,  7.73293879e+08, -2.42832089e+08],\n",
    "       [-5.75015842e+08,  4.87584827e+08, -3.95875746e+06,\n",
    "         1.38575209e+05,  3.93373407e+07,  2.96860809e+07,\n",
    "        -2.17534724e+08, -2.42832089e+08,  1.41992902e+08]])\n",
    "\n",
    "mean = np.array([0.02235975, 0.12020024, 1.04090357, 0.05444509, 3.04473522,\n",
    "       0.96485744, 0.31655132, 0.8119776 , 0.8340452 ])"
   ]
  },
  {
   "cell_type": "code",
   "execution_count": 12,
   "metadata": {},
   "outputs": [],
   "source": [
    "def add_matrix_elements(a, b):\n",
    "    # 创建矩阵a的副本\n",
    "    result = np.copy(a)\n",
    "    result[6:8, 6:8] += b\n",
    "    return result"
   ]
  },
  {
   "cell_type": "code",
   "execution_count": 13,
   "metadata": {},
   "outputs": [],
   "source": [
    "planck_rsd_fish = add_matrix_elements(planck_fish, fisher_rsd)\n",
    "planck_rsd_ksz_fish = add_matrix_elements(planck_fish, fisher_rsd_ksz)\n",
    "planck_rsd_cov = np.linalg.inv(planck_rsd_fish)\n",
    "planck_rsd_ksz_cov = np.linalg.inv(planck_rsd_ksz_fish)\n",
    "\n",
    "less1 = planck_rsd_cov[-3:,-3:]\n",
    "less2 = planck_rsd_ksz_cov[-3:,-3:]\n"
   ]
  },
  {
   "cell_type": "code",
   "execution_count": 14,
   "metadata": {},
   "outputs": [
    {
     "data": {
      "text/plain": [
       "(array([[5.85712869e-05, 1.47395256e-05, 9.23143320e-05],\n",
       "        [1.47395256e-05, 4.19672324e-05, 6.25004322e-05],\n",
       "        [9.23143319e-05, 6.25004322e-05, 1.85814624e-04]]),\n",
       " array([[ 2.37692309e-05, -1.23550439e-05,  1.86413800e-05],\n",
       "        [-1.23550439e-05,  1.58539894e-05, -8.33769390e-09],\n",
       "        [ 1.86413800e-05, -8.33769372e-09,  2.45672351e-05]]))"
      ]
     },
     "execution_count": 14,
     "metadata": {},
     "output_type": "execute_result"
    }
   ],
   "source": [
    "less1, less2"
   ]
  }
 ],
 "metadata": {
  "kernelspec": {
   "display_name": "mcmc",
   "language": "python",
   "name": "python3"
  },
  "language_info": {
   "codemirror_mode": {
    "name": "ipython",
    "version": 3
   },
   "file_extension": ".py",
   "mimetype": "text/x-python",
   "name": "python",
   "nbconvert_exporter": "python",
   "pygments_lexer": "ipython3",
   "version": "3.12.2"
  }
 },
 "nbformat": 4,
 "nbformat_minor": 2
}
