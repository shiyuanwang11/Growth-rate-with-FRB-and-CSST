{
 "cells": [
  {
   "cell_type": "markdown",
   "metadata": {},
   "source": [
    "### ΛCDM"
   ]
  },
  {
   "cell_type": "code",
   "execution_count": null,
   "metadata": {},
   "outputs": [],
   "source": [
    "from getdist import plots , MCSamples , loadMCSamples\n",
    "import numpy as np"
   ]
  },
  {
   "cell_type": "code",
   "execution_count": null,
   "metadata": {},
   "outputs": [],
   "source": [
    "g=plots.get_subplot_plotter(chain_dir=[\n",
    "                                       '/home/wangsy2/chains_planck/base/plikHM_TTTEEE_lowl_lowE'\n",
    "                                       ],\n",
    "                                       width_inch=10)\n",
    "roots = [ 'base_plikHM_TTTEEE_lowl_lowE']\n",
    "params = ['omegabh2','omegach2','theta','tau','logA','ns','omegam','sigma8','H0']\n",
    "g.triangle_plot(roots, params, filled=True, legend_labels=['TT+EE+TE+lowE+lowl'],title_limit=1)\n",
    "g.export('planck_more.pdf')"
   ]
  },
  {
   "cell_type": "code",
   "execution_count": null,
   "metadata": {},
   "outputs": [],
   "source": [
    "from getdist import loadMCSamples\n",
    "import numpy as np\n",
    "\n",
    "readsamps = loadMCSamples('/home/wangsy2/chains_planck/base/plikHM_TTTEEE_lowl_lowE/base_plikHM_TTTEEE_lowl_lowE')\n",
    "cov = readsamps.cov(['omegabh2','omegach2','theta','tau','logA','ns','omegam','sigma8','S8','H0'])\n",
    "mean = readsamps.mean(['omegabh2','omegach2','theta','tau','logA','ns','omegam','sigma8','S8','H0'])\n",
    "fisher_planck = np.linalg.inv(cov)"
   ]
  },
  {
   "cell_type": "code",
   "execution_count": null,
   "metadata": {},
   "outputs": [],
   "source": [
    "mean"
   ]
  },
  {
   "cell_type": "code",
   "execution_count": null,
   "metadata": {},
   "outputs": [],
   "source": [
    "fisher_planck"
   ]
  },
  {
   "cell_type": "code",
   "execution_count": null,
   "metadata": {},
   "outputs": [],
   "source": [
    "fisher_rsd = np.array([[1278.81885787, 1839.07154863],\n",
    "       [1839.07154863, 2987.87756339]])\n",
    "\n",
    "fisher_rsd_ksz = np.array([[60014.72193115, 70818.55858603],\n",
    "       [70818.55858603, 87513.25702333]])\n",
    "# [\"omegam\", \"sigma8\"]"
   ]
  },
  {
   "cell_type": "code",
   "execution_count": null,
   "metadata": {},
   "outputs": [],
   "source": [
    "def add_matrix_elements(a, b):\n",
    "    # Create a copy of matrix 'a'\n",
    "    result = np.copy(a)\n",
    "    result[6:8, 6:8] += b\n",
    "    return result"
   ]
  },
  {
   "cell_type": "code",
   "execution_count": null,
   "metadata": {},
   "outputs": [],
   "source": [
    "planck_rsd_fish = add_matrix_elements(fisher_planck, fisher_rsd)\n",
    "planck_rsd_ksz_fish = add_matrix_elements(fisher_planck, fisher_rsd_ksz)\n",
    "\n",
    "planck_cov = np.linalg.inv(fisher_planck)\n",
    "planck_rsd_cov = np.linalg.inv(planck_rsd_fish)\n",
    "planck_rsd_ksz_cov = np.linalg.inv(planck_rsd_ksz_fish)"
   ]
  },
  {
   "cell_type": "code",
   "execution_count": null,
   "metadata": {},
   "outputs": [],
   "source": [
    "from getdist import plots, MCSamples\n",
    "from getdist.gaussian_mixtures import GaussianND\n",
    "\n",
    "# Get the getdist MCSamples objects for the samples, specifying same parameter\n",
    "# names and labels; if not specified weights are assumed to all be unity\n",
    "names = [r'\\Omega_b h^2',r'\\Omega_c h^2',r'100\\theta_{MC}',r'\\tau',r'{\\rm{ln}}(10^{10} A_s)',r'n_s',r'\\Omega_m', r'\\sigma_8',r'S_8']\n",
    "labels =  [r'\\Omega_b h^2',r'\\Omega_c h^2',r'100\\theta_{MC}',r'\\tau',r'{\\rm{ln}}(10^{10} A_s)',r'n_s',r'\\Omega_m', r'\\sigma_8',r'S_8']\n",
    "samples0 = GaussianND(mean, cov,names = names, labels = labels, label = 'Planck')\n",
    "samples = GaussianND(mean, planck_rsd_cov,names = names, labels = labels, label = 'Planck+RSD')\n",
    "samples2 = GaussianND(mean,planck_rsd_ksz_cov,names = names, labels = labels, label = 'Planck+RSD+kSZ tomography')\n",
    "\n",
    "\n",
    "# Triangle plot\n",
    "g = plots.get_subplot_plotter()\n",
    "g.triangle_plot([samples0, samples,samples2], filled=True, width_inch=10)\n",
    "g.export('fisher_total.pdf')"
   ]
  },
  {
   "cell_type": "code",
   "execution_count": null,
   "metadata": {},
   "outputs": [],
   "source": [
    "less0 = planck_cov[-3:,-3:]\n",
    "less1 = planck_rsd_cov[-3:,-3:]\n",
    "less2 = planck_rsd_ksz_cov[-3:,-3:]\n",
    "mean1 = mean[-3:]\n",
    "\n",
    "from getdist import plots, MCSamples\n",
    "from getdist.gaussian_mixtures import GaussianND\n",
    "\n",
    "# Get the getdist MCSamples objects for the samples, specifying same parameter\n",
    "# names and labels; if not specified weights are assumed to all be unity\n",
    "names = [r'\\Omega_m', r'\\sigma_8',r'S_8']\n",
    "labels =  [r'\\Omega_m', r'\\sigma_8',r'S_8']\n",
    "samples0 = GaussianND(mean1, less0,names = names, labels = labels, label = 'Planck')\n",
    "samples1 = GaussianND(mean1, less1,names = names, labels = labels, label = 'Planck+RSD')\n",
    "samples2 = GaussianND(mean1,less2,names = names, labels = labels, label = 'Planck+RSD+kSZ tomography')\n",
    "\n",
    "\n",
    "# Triangle plot\n",
    "g = plots.get_subplot_plotter()\n",
    "g.triangle_plot([samples0,samples1,samples2], filled=True, width_inch=7)\n",
    "g.export('fisher_less.pdf')"
   ]
  },
  {
   "cell_type": "code",
   "execution_count": null,
   "metadata": {},
   "outputs": [],
   "source": [
    "less0"
   ]
  },
  {
   "cell_type": "code",
   "execution_count": null,
   "metadata": {},
   "outputs": [],
   "source": [
    "less1"
   ]
  },
  {
   "cell_type": "code",
   "execution_count": null,
   "metadata": {},
   "outputs": [],
   "source": [
    "less2"
   ]
  },
  {
   "cell_type": "code",
   "execution_count": null,
   "metadata": {},
   "outputs": [],
   "source": [
    "import getdist\n",
    "from getdist import plots\n",
    "samples = getdist.loadMCSamples(r'/home/wangsy/chains_planck/base/plikHM_TTTEEE_lowl_lowE/base_plikHM_TTTEEE_lowl_lowE', settings={'ignore_rows':0.3})\n",
    "p = samples.getParams()\n",
    "samples.addDerived(p.omegabh2/(p.H0/100)**2, name='omegab', label=r'\\Omega_b')\n",
    "samples.addDerived(p.omegach2/(p.H0/100)**2, name='omegac', label=r'\\Omega_c')\n",
    "samples.addDerived(p.H0/100, name='h', label=r'h')\n",
    "g = plots.get_single_plotter(width_inch=4)\n",
    "mean1 = samples.mean(['omegab', 'omegac','h', 'omegal'])\n",
    "mean1"
   ]
  },
  {
   "cell_type": "markdown",
   "metadata": {},
   "source": [
    "### wCDM"
   ]
  },
  {
   "cell_type": "code",
   "execution_count": null,
   "metadata": {},
   "outputs": [],
   "source": [
    "from getdist import plots , MCSamples , loadMCSamples\n",
    "import numpy as np"
   ]
  },
  {
   "cell_type": "code",
   "execution_count": null,
   "metadata": {},
   "outputs": [],
   "source": [
    "g=plots.get_subplot_plotter(chain_dir=['/home/wangsy/chains_planck/base_w/plikHM_TTTEEE_lowl_lowE',\n",
    "                                       '/home/wangsy/chains_planck/base_w/plikHM_TTTEEE_lowl_lowE'\n",
    "                                       ],\n",
    "                                       width_inch=10)\n",
    "roots = [ 'base_w_plikHM_TTTEEE_lowl_lowE','base_w_plikHM_TTTEEE_lowl_lowE_post_lensing']\n",
    "params = ['omegabh2','omegach2','theta','tau','logA','ns','w','omegam','sigma8','S8']\n",
    "g.triangle_plot(roots, params, filled=True, legend_labels=['TT+EE+TE+lowE+lowl','TT+EE+TE+lowE+lowl+post lensing'])\n",
    "g.export('wcdm_planck.pdf')"
   ]
  },
  {
   "cell_type": "code",
   "execution_count": null,
   "metadata": {},
   "outputs": [],
   "source": [
    "### base_w_plikHM_TTTEEE_lowl_lowE\n",
    "# Number of chains used =  4\n",
    "#  var(mean)/mean(var), remaining chains, worst e-value: R-1 =       0.01268\n",
    "# RL: Thin for Markov:  27\n",
    "# RL: Thin for indep samples:   27\n",
    "# RL: Estimated burn in steps:  156  ( 65  rows)\n",
    "# using 24841 rows, 93 parameters; mean weight 2.3824322692323174, tot weight 59182.0\n",
    "# Approx indep samples (N/corr length): 1813\n",
    "# Equiv number of single samples (sum w)/max(w): 2192\n",
    "# Effective number of weighted samples (sum w)^2/sum(w^2): 15133\n",
    "# Best fit sample -log(Like) = 1383.562000\n",
    "# mean(-Ln(like)) = 1394.278534\n",
    "# -Ln(mean like)  = 1390.180784"
   ]
  },
  {
   "cell_type": "code",
   "execution_count": null,
   "metadata": {},
   "outputs": [],
   "source": [
    "### base_w_plikHM_TTTEEE_lowl_lowE_post_lensing\n",
    "# Number of chains used =  4\n",
    "#  var(mean)/mean(var), remaining chains, worst e-value: R-1 =       0.01838\n",
    "# using 5849 rows, 94 parameters; mean weight 0.00869739933841236, tot weight 50.8710887303739\n",
    "# Approx indep samples (N/corr length): 1394\n",
    "# Equiv number of single samples (sum w)/max(w): 918\n",
    "# Effective number of weighted samples (sum w)^2/sum(w^2): 4029\n",
    "# Best fit sample -log(Like) = 1389.095000\n",
    "# Ln(mean 1/like) = 1408.906801\n",
    "# mean(-Ln(like)) = 1398.801956\n",
    "# -Ln(mean like)  = 1394.684157"
   ]
  },
  {
   "cell_type": "code",
   "execution_count": null,
   "metadata": {},
   "outputs": [],
   "source": [
    "from getdist import loadMCSamples\n",
    "import numpy as np\n",
    "\n",
    "readsamps = loadMCSamples('/home/wangsy2/Planck_2018_chains/base_w/plikHM_TTTEEE_lowl_lowE/base_w_plikHM_TTTEEE_lowl_lowE')\n",
    "cov = readsamps.cov( ['omegabh2','omegach2','theta','tau','logA','ns','w','omegam','sigma8','S8','omegal'])\n",
    "mean = readsamps.mean( ['omegabh2','omegach2','theta','tau','logA','ns','w','omegam','sigma8','S8','omegal'])\n",
    "fisher_planck = np.linalg.inv(cov)"
   ]
  },
  {
   "cell_type": "code",
   "execution_count": null,
   "metadata": {},
   "outputs": [],
   "source": [
    "#fisher_planck"
   ]
  },
  {
   "cell_type": "code",
   "execution_count": null,
   "metadata": {},
   "outputs": [],
   "source": [
    "mean"
   ]
  },
  {
   "cell_type": "code",
   "execution_count": null,
   "metadata": {},
   "outputs": [],
   "source": [
    "# ['w','omegam','sigma8']  [6 7 8]--[0 1 2]\n",
    "fisher_rsd_ksz = np.array([[  1124.24815622, -11659.46790013,  -8182.72112514],\n",
    "       [-11659.46790013, 143252.53907746,  87984.41764765],\n",
    "       [ -8182.72112514,  87984.41764765,  61573.54789072]])\n",
    "fisher_rsd = np.array([[  30.20200579, -192.07318699, -114.12502183],\n",
    "       [-192.07318699, 2024.64107128,  858.61920149],\n",
    "       [-114.12502183,  858.61920149,  496.05759245]])"
   ]
  },
  {
   "cell_type": "code",
   "execution_count": null,
   "metadata": {},
   "outputs": [],
   "source": [
    "def add_fisher(a,b):\n",
    "    result = np.copy(a)\n",
    "    result[6:9,6:9] += b\n",
    "    return result"
   ]
  },
  {
   "cell_type": "code",
   "execution_count": null,
   "metadata": {},
   "outputs": [],
   "source": [
    "planck_rsd_fish = add_fisher(fisher_planck, fisher_rsd)\n",
    "planck_rsd_ksz_fish = add_fisher(fisher_planck, fisher_rsd_ksz)\n",
    "\n",
    "planck_rsd_cov = np.linalg.inv(planck_rsd_fish)\n",
    "planck_rsd_ksz_cov = np.linalg.inv(planck_rsd_ksz_fish)"
   ]
  },
  {
   "cell_type": "code",
   "execution_count": null,
   "metadata": {},
   "outputs": [],
   "source": [
    "from getdist import plots, MCSamples\n",
    "from getdist.gaussian_mixtures import GaussianND\n",
    "\n",
    "# Get the getdist MCSamples objects for the samples, specifying same parameter\n",
    "# names and labels; if not specified weights are assumed to all be unity\n",
    "names = [r'\\Omega_b h^2',r'\\Omega_c h^2',r'100\\theta_{MC}',r'\\tau',r'{\\rm{ln}}(10^{10} A_s)',r'n_s',r'w',r'\\Omega_m', r'\\sigma_8',r'S_8',r'\\Omega_\\Lambda']\n",
    "labels =  [r'\\Omega_b h^2',r'\\Omega_c h^2',r'100\\theta_{MC}',r'\\tau',r'{\\rm{ln}}(10^{10} A_s)',r'n_s',r'w',r'\\Omega_m', r'\\sigma_8',r'S_8',r'\\Omega_\\Lambda']\n",
    "samples0 = GaussianND(mean, cov,names = names, labels = labels, label = 'Planck')\n",
    "samples = GaussianND(mean, planck_rsd_cov,names = names, labels = labels, label = 'Planck+RSD')\n",
    "samples2 = GaussianND(mean,planck_rsd_ksz_cov,names = names, labels = labels, label = 'Planck+RSD+kSZ tomography')\n",
    "\n",
    "\n",
    "# Triangle plot\n",
    "g = plots.get_subplot_plotter()\n",
    "g.triangle_plot([samples0,samples,samples2], filled=True, width_inch=10)\n",
    "#g.export('wcdm2.pdf')"
   ]
  },
  {
   "cell_type": "code",
   "execution_count": null,
   "metadata": {},
   "outputs": [],
   "source": [
    "from getdist import plots, MCSamples\n",
    "from getdist.gaussian_mixtures import GaussianND\n",
    "def rgba(cc):\n",
    "    return tuple(cc/255.)\n",
    "c1 = rgba(np.array([41.,157.,143.,255.]))\n",
    "c2 = rgba(np.array([233.,196.,106.,255.]))\n",
    "c3 = rgba(np.array([216.,118.,89.,255.]))\n",
    "\n",
    "# Get the getdist MCSamples objects for the samples, specifying same parameter\n",
    "# names and labels; if not specified weights are assumed to all be unity\n",
    "names = [r'\\Omega_b h^2',r'\\Omega_c h^2',r'100\\theta_{MC}',r'\\tau',r'{\\rm{ln}}(10^{10} A_s)',r'n_s',r'w',r'\\Omega_m', r'\\sigma_8',r'S_8',r'\\Omega_\\Lambda']\n",
    "labels =  [r'\\Omega_b h^2',r'\\Omega_c h^2',r'100\\theta_{MC}',r'\\tau',r'{\\rm{ln}}(10^{10} A_s)',r'n_s',r'w',r'\\Omega_m', r'\\sigma_8',r'S_8',r'\\Omega_\\Lambda']\n",
    "samples0 = GaussianND(mean, cov,names = names, labels = labels, label = 'Planck')\n",
    "samples = GaussianND(mean, planck_rsd_cov,names = names, labels = labels, label = 'Planck+RSD')\n",
    "samples2 = GaussianND(mean,planck_rsd_ksz_cov,names = names, labels = labels, label = 'Planck+RSD+kSZ+FRB')\n",
    "\n",
    "g = plots.get_subplot_plotter()\n",
    "g.settings.figure_legend_frame = False\n",
    "g.settings.alpha_filled_add=0.8\n",
    "g.settings.title_limit_fontsize = 14\n",
    "g.triangle_plot([samples0, samples, samples2], ['w','\\Omega_\\Lambda', '\\\\sigma_8','S_8'], \n",
    "    filled=True, \n",
    "    contour_lws=1.5,\n",
    "    legend_labels=['Base', 'Base+RSD', 'Base+RSD+kSZ+FRB'], \n",
    "    legend_loc='upper right',\n",
    "    contour_colors=[c2,c1,c3],\n",
    "    #markers={'w':-1.584, '\\Omega_\\Lambda':0.802, '\\\\sigma_8':0.972,'S_8':0.777}\n",
    "    )#-1.58491121, 0.80234703,  0.97234554,  0.77748323\n",
    "\n",
    "for ax in g.subplots[:, :].flat:\n",
    "    if ax is not None:  # check ax is None or not\n",
    "        ax.minorticks_on()\n",
    "        ax.tick_params(which='both', direction='in', top=True, right=True)\n",
    "        ax.tick_params(which='minor', length=4)\n",
    "        ax.tick_params(which='major', length=7)\n",
    "        \n",
    "g.export('wcdm_use.pdf')\n",
    "\n",
    "# Triangle plot\n"
   ]
  },
  {
   "cell_type": "code",
   "execution_count": null,
   "metadata": {},
   "outputs": [],
   "source": [
    "from getdist import plots, MCSamples\n",
    "from getdist.gaussian_mixtures import GaussianND\n",
    "def rgba(cc):\n",
    "    return tuple(cc/255.)\n",
    "c1 = rgba(np.array([41.,157.,143.,255.]))\n",
    "c2 = rgba(np.array([233.,196.,106.,255.]))\n",
    "c3 = rgba(np.array([216.,118.,89.,255.]))\n",
    "\n",
    "# Get the getdist MCSamples objects for the samples, specifying same parameter\n",
    "# names and labels; if not specified weights are assumed to all be unity\n",
    "names = [r'\\Omega_b h^2',r'\\Omega_c h^2',r'100\\theta_{MC}',r'\\tau',r'{\\rm{ln}}(10^{10} A_s)',r'n_s',r'w',r'\\Omega_m', r'\\sigma_8',r'S_8',r'\\Omega_\\Lambda']\n",
    "labels =  [r'\\Omega_b h^2',r'\\Omega_c h^2',r'100\\theta_{MC}',r'\\tau',r'{\\rm{ln}}(10^{10} A_s)',r'n_s',r'w',r'\\Omega_m', r'\\sigma_8',r'S_8',r'\\Omega_\\Lambda']\n",
    "samples0 = GaussianND(mean, cov,names = names, labels = labels, label = 'Planck')\n",
    "samples = GaussianND(mean, planck_rsd_cov,names = names, labels = labels, label = 'Planck+RSD')\n",
    "samples2 = GaussianND(mean,planck_rsd_ksz_cov,names = names, labels = labels, label = 'Planck+RSD+kSZ')\n",
    "\n",
    "g = plots.get_single_plotter(width_inch=4, ratio=1)\n",
    "g.settings.figure_legend_frame = False\n",
    "g.settings.alpha_filled_add=0.8\n",
    "g.settings.title_limit_fontsize = 14\n",
    "g.plot_2d([samples0, samples, samples2], ['w', '\\\\sigma_8'],filled=True, colors=[c2,c1,c3],lims=[-2.5, -0.7, 0.75, 1.2]) \n",
    "#g.add_legend(['Base', 'Base+RSD', 'Base+RSD+kSZ'], colored_text=True)\n",
    "g.add_legend(['Base', 'Base+RSD', 'Base+RSD+kSZ+FRB'], legend_loc='upper right');\n",
    "    \n",
    "g.add_x_marker(-1.584)\n",
    "g.add_y_marker(0.972)\n",
    "\n",
    "for ax in g.subplots[:, :].flat:\n",
    "    if ax is not None:  # check ax is None or not\n",
    "        ax.minorticks_on()\n",
    "        ax.tick_params(which='both', direction='in', top=True, right=True)\n",
    "        ax.tick_params(which='minor', length=4)\n",
    "        ax.tick_params(which='major', length=7)\n",
    "        \n",
    "g.export('wcdm_use_ppt.pdf')"
   ]
  },
  {
   "cell_type": "markdown",
   "metadata": {},
   "source": [
    "### CPL"
   ]
  },
  {
   "cell_type": "code",
   "execution_count": null,
   "metadata": {},
   "outputs": [],
   "source": [
    "from getdist import plots\n",
    "import numpy as np"
   ]
  },
  {
   "cell_type": "code",
   "execution_count": null,
   "metadata": {},
   "outputs": [],
   "source": [
    "g=plots.get_subplot_plotter(chain_dir=['/home/wangsy/chains_planck/base_w_wa/plikHM_TTTEEE_lowl_lowE_BAO',\n",
    "                                       '/home/wangsy/chains_planck/base_w_wa/plikHM_TTTEEE_lowl_lowE_BAO'\n",
    "                                       ],\n",
    "                                       width_inch=10)\n",
    "roots = [ 'base_w_wa_plikHM_TTTEEE_lowl_lowE_BAO','base_w_wa_plikHM_TTTEEE_lowl_lowE_BAO_post_lensing']\n",
    "params = ['omegabh2','omegach2','theta','tau','logA','ns','w0','wa','omegam','sigma8','S8','omegal']\n",
    "g.triangle_plot(roots, params, filled=True, legend_labels=['TT+EE+TE+lowE+lowl+BAO','TT+EE+TE+lowE+lowl+BAO+post_lensing'])\n",
    "g.export('cpl_planck.pdf')"
   ]
  },
  {
   "cell_type": "code",
   "execution_count": null,
   "metadata": {},
   "outputs": [],
   "source": [
    "### base_w_wa_plikHM_TTTEEE_lowl_lowE_BAO\n",
    "# Number of chains used =  4\n",
    "#  var(mean)/mean(var), remaining chains, worst e-value: R-1 =       0.01370\n",
    "# RL: Thin for Markov:  29\n",
    "# RL: Thin for indep samples:   29\n",
    "# RL: Estimated burn in steps:  126  ( 55  rows)\n",
    "# using 31258 rows, 98 parameters; mean weight 2.298515580011517, tot weight 71847.0\n",
    "# Approx indep samples (N/corr length): 1941\n",
    "# Equiv number of single samples (sum w)/max(w): 2477\n",
    "# Effective number of weighted samples (sum w)^2/sum(w^2): 19588\n",
    "# Best fit sample -log(Like) = 1387.439000\n",
    "# mean(-Ln(like)) = 1398.453899\n",
    "# -Ln(mean like)  = 1394.179580"
   ]
  },
  {
   "cell_type": "code",
   "execution_count": null,
   "metadata": {},
   "outputs": [],
   "source": [
    "### base_w_wa_plikHM_TTTEEE_lowl_lowE_BAO_post_lensing\n",
    "# Removed 0.3 as burn in\n",
    "# Number of chains used =  4\n",
    "#  var(mean)/mean(var), remaining chains, worst e-value: R-1 =       0.01809\n",
    "# using 7132 rows, 99 parameters; mean weight 0.008367313654728575, tot weight 59.675680985524195\n",
    "# Approx indep samples (N/corr length): 1678\n",
    "# Equiv number of single samples (sum w)/max(w): 1632\n",
    "# Effective number of weighted samples (sum w)^2/sum(w^2): 5698\n",
    "# Best fit sample -log(Like) = 1393.800000\n",
    "# mean(-Ln(like)) = 1402.919786\n",
    "# -Ln(mean like)  = 1398.710926"
   ]
  },
  {
   "cell_type": "code",
   "execution_count": null,
   "metadata": {},
   "outputs": [],
   "source": [
    "from getdist import loadMCSamples\n",
    "import numpy as np\n",
    "\n",
    "readsamps = loadMCSamples('/home/wangsy2/Planck_2018_chains/base_w_wa/plikHM_TTTEEE_lowl_lowE_BAO/base_w_wa_plikHM_TTTEEE_lowl_lowE_BAO')\n",
    "cov = readsamps.cov(['omegabh2','omegach2','theta','tau','logA','ns','w','wa','sigma8','S8','omegal'])\n",
    "mean = readsamps.mean(['omegabh2','omegach2','theta','tau','logA','ns','w','wa','sigma8','S8','omegal'])\n",
    "fisher_planck = np.linalg.inv(cov)"
   ]
  },
  {
   "cell_type": "code",
   "execution_count": null,
   "metadata": {},
   "outputs": [],
   "source": [
    "mean"
   ]
  },
  {
   "cell_type": "code",
   "execution_count": null,
   "metadata": {},
   "outputs": [],
   "source": [
    "\n",
    "# ['w0','wa','sigma8']\n",
    "fisher_rsd_ksz = np.array([[ 3.06950329e+02,  4.54869568e+01, -3.22024254e+03],\n",
    "       [ 4.54869568e+01,  7.82400579e+00, -4.68728658e+02],\n",
    "       [-3.22024254e+03, -4.68728658e+02,  3.51834507e+04]])\n",
    "fisher_rsd = np.array([[ 1.71114915e+01,  2.52397287e+00, -1.41788328e+02],\n",
    "       [ 2.52397287e+00,  1.15741656e+00, -2.00687738e+01],\n",
    "       [-1.41788328e+02, -2.00687738e+01,  1.35138449e+03]])\n"
   ]
  },
  {
   "cell_type": "code",
   "execution_count": null,
   "metadata": {},
   "outputs": [],
   "source": [
    "\n",
    "def add_fisher(a,b):\n",
    "    result = np.copy(a)\n",
    "    result[6:9,6:9] += b\n",
    "    return result"
   ]
  },
  {
   "cell_type": "code",
   "execution_count": null,
   "metadata": {},
   "outputs": [],
   "source": [
    "\n",
    "planck_rsd_fish = add_fisher(fisher_planck, fisher_rsd)\n",
    "planck_rsd_ksz_fish = add_fisher(fisher_planck, fisher_rsd_ksz)\n",
    "\n",
    "planck_rsd_cov = np.linalg.inv(planck_rsd_fish)\n",
    "planck_rsd_ksz_cov = np.linalg.inv(planck_rsd_ksz_fish)"
   ]
  },
  {
   "cell_type": "code",
   "execution_count": null,
   "metadata": {},
   "outputs": [],
   "source": [
    "#from getdist import plots, MCSamples\n",
    "#from getdist.gaussian_mixtures import GaussianND\n",
    "#\n",
    "## Get the getdist MCSamples objects for the samples, specifying same parameter\n",
    "## names and labels; if not specified weights are assumed to all be unity\n",
    "#names = [r'\\Omega_b h^2',r'\\Omega_c h^2',r'100\\theta_{MC}',r'\\tau',r'{\\rm{ln}}(10^{10} A_s)',r'n_s',r'\\Omega_m', r'\\sigma_8',r'w_0',r'w_a',r'S_8']\n",
    "#labels =  [r'\\Omega_b h^2',r'\\Omega_c h^2',r'100\\theta_{MC}',r'\\tau',r'{\\rm{ln}}(10^{10} A_s)',r'n_s',r'\\Omega_m', r'\\sigma_8',r'w_0',r'w_a',r'S_8']\n",
    "#samples0 = GaussianND(mean, cov,names = names, labels = labels, label = 'Planck')\n",
    "#samples = GaussianND(mean, planck_rsd_cov,names = names, labels = labels, label = 'Planck+RSD')\n",
    "#samples2 = GaussianND(mean,planck_rsd_ksz_cov,names = names, labels = labels, label = 'Planck+RSD+kSZ tomography')\n",
    "#\n",
    "#\n",
    "## Triangle plot\n",
    "#g = plots.get_subplot_plotter()\n",
    "#g.triangle_plot([samples0,samples,samples2], filled=True, width_inch=10)\n",
    "#g.export('cpl2.pdf')"
   ]
  },
  {
   "cell_type": "code",
   "execution_count": null,
   "metadata": {},
   "outputs": [],
   "source": [
    "\n",
    "from getdist import plots, MCSamples\n",
    "from getdist.gaussian_mixtures import GaussianND\n",
    "def rgba(cc):\n",
    "    return tuple(cc/255.)\n",
    "c1 = rgba(np.array([41.,157.,143.,255.]))\n",
    "c2 = rgba(np.array([233.,196.,106.,255.]))\n",
    "c3 = rgba(np.array([216.,118.,89.,255.]))\n",
    "\n",
    "# Get the getdist MCSamples objects for the samples, specifying same parameter\n",
    "# names and labels; if not specified weights are assumed to all be unity\n",
    "names = [r'\\Omega_b h^2',r'\\Omega_c h^2',r'100\\theta_{MC}',r'\\tau',r'{\\rm{ln}}(10^{10} A_s)',r'n_s',r'w_0',r'w_a', r'\\sigma_8',r'S_8',r'\\Omega_\\Lambda']\n",
    "labels =  [r'\\Omega_b h^2',r'\\Omega_c h^2',r'100\\theta_{MC}',r'\\tau',r'{\\rm{ln}}(10^{10} A_s)',r'n_s',r'w_0',r'w_a', r'\\sigma_8',r'S_8',r'\\Omega_\\Lambda']\n",
    "samples0 = GaussianND(mean, cov,names = names, labels = labels, label = 'Planck')\n",
    "samples = GaussianND(mean, planck_rsd_cov,names = names, labels = labels, label = 'Planck+RSD')\n",
    "samples2 = GaussianND(mean,planck_rsd_ksz_cov,names = names, labels = labels, label = 'Planck+RSD+kSZ')\n",
    "\n",
    "\n",
    "g = plots.get_subplot_plotter()\n",
    "g.settings.figure_legend_frame = False\n",
    "g.settings.alpha_filled_add=0.8\n",
    "g.settings.title_limit_fontsize = 14\n",
    "g.triangle_plot([samples0, samples, samples2], ['w_0','w_a','\\\\Omega_\\Lambda','\\\\sigma_8','S_8'], \n",
    "    filled=True, \n",
    "    contour_lws=1.5,\n",
    "    legend_labels=['Base', 'Base+RSD', 'Base+RSD+kSZ+FRB'], \n",
    "    legend_loc='upper right',\n",
    "    contour_colors=[c2,c1,c3],\n",
    "    markers={'w_0':-0.577, 'w_a':-1.316,'\\\\sigma_8':0.795, 'S_8':0.847, '\\Omega_\\Lambda': 0.658}\n",
    "    #-0.57779661, -1.31630327,  0.79547449,  0.8475389 , 0.65833267\n",
    "    )\n",
    "\n",
    "for ax in g.subplots[:, :].flat:\n",
    "    if ax is not None:  # check ax is None or not\n",
    "        ax.minorticks_on()\n",
    "        ax.tick_params(which='both', direction='in', top=True, right=True)\n",
    "        ax.tick_params(which='minor', length=4)\n",
    "        ax.tick_params(which='major', length=7)\n",
    "            \n",
    "g.export('cpl_use_new.pdf')"
   ]
  },
  {
   "cell_type": "code",
   "execution_count": null,
   "metadata": {},
   "outputs": [],
   "source": [
    "from getdist import plots, MCSamples\n",
    "from getdist.gaussian_mixtures import GaussianND\n",
    "def rgba(cc):\n",
    "    return tuple(cc/255.)\n",
    "c1 = rgba(np.array([41.,157.,143.,255.]))\n",
    "c2 = rgba(np.array([233.,196.,106.,255.]))\n",
    "c3 = rgba(np.array([216.,118.,89.,255.]))\n",
    "\n",
    "# Get the getdist MCSamples objects for the samples, specifying same parameter\n",
    "# names and labels; if not specified weights are assumed to all be unity\n",
    "names = [r'\\Omega_b h^2',r'\\Omega_c h^2',r'100\\theta_{MC}',r'\\tau',r'{\\rm{ln}}(10^{10} A_s)',r'n_s',r'w_0',r'w_a', r'\\sigma_8',r'S_8',r'\\Omega_\\Lambda']\n",
    "labels =  [r'\\Omega_b h^2',r'\\Omega_c h^2',r'100\\theta_{MC}',r'\\tau',r'{\\rm{ln}}(10^{10} A_s)',r'n_s',r'w_0',r'w_a', r'\\sigma_8',r'S_8',r'\\Omega_\\Lambda']\n",
    "samples0 = GaussianND(mean, cov,names = names, labels = labels, label = 'Planck')\n",
    "samples = GaussianND(mean, planck_rsd_cov,names = names, labels = labels, label = 'Planck+RSD')\n",
    "samples2 = GaussianND(mean,planck_rsd_ksz_cov,names = names, labels = labels, label = 'Planck+RSD+kSZ')\n",
    "\n",
    "\n",
    "#g.add_legend(['Base', 'Base+RSD', 'Base+RSD+kSZ'], colored_text=True)\n",
    "#g.add_legend(['Base', 'Base+RSD', 'Base+RSD+kSZ'], legend_loc='upper right');\n",
    "\n",
    "g = plots.get_single_plotter(width_inch=4, ratio=1)\n",
    "g.settings.figure_legend_frame = False\n",
    "g.settings.alpha_filled_add=0.8\n",
    "g.settings.title_limit_fontsize = 14\n",
    "g.plot_2d([samples0, samples, samples2], ['w_0','\\\\sigma_8'], filled=True, colors=[c2,c1,c3],lims=[-1.5, 0.5, 0.7, 0.9])\n",
    "g.add_legend(['Base', 'Base+RSD', 'Base+RSD+kSZ'],legend_loc='upper right');\n",
    "g.add_x_marker(-0.577)\n",
    "g.add_y_marker(0.795)\n",
    "#    markers={'w_0':-0.577, 'w_a':-1.316,'\\\\sigma_8':0.795, 'S_8':0.847, '\\Omega_\\Lambda': 0.658}\n",
    "    #-0.57779661, -1.31630327,  0.79547449,  0.8475389 , 0.65833267\n",
    "\n",
    "\n",
    "for ax in g.subplots[:, :].flat:\n",
    "    if ax is not None:  # check ax is None or not\n",
    "        ax.minorticks_on()\n",
    "        ax.tick_params(which='both', direction='in', top=True, right=True)\n",
    "        ax.tick_params(which='minor', length=4)\n",
    "        ax.tick_params(which='major', length=7)\n",
    "            \n",
    "g.export('cpl_use_ppt1.pdf')"
   ]
  },
  {
   "cell_type": "code",
   "execution_count": null,
   "metadata": {},
   "outputs": [],
   "source": [
    "from getdist import plots, MCSamples\n",
    "from getdist.gaussian_mixtures import GaussianND\n",
    "def rgba(cc):\n",
    "    return tuple(cc/255.)\n",
    "c1 = rgba(np.array([41.,157.,143.,255.]))\n",
    "c2 = rgba(np.array([233.,196.,106.,255.]))\n",
    "c3 = rgba(np.array([216.,118.,89.,255.]))\n",
    "\n",
    "# Get the getdist MCSamples objects for the samples, specifying same parameter\n",
    "# names and labels; if not specified weights are assumed to all be unity\n",
    "names = [r'\\Omega_b h^2',r'\\Omega_c h^2',r'100\\theta_{MC}',r'\\tau',r'{\\rm{ln}}(10^{10} A_s)',r'n_s',r'w_0',r'w_a', r'\\sigma_8',r'S_8',r'\\Omega_\\Lambda']\n",
    "labels =  [r'\\Omega_b h^2',r'\\Omega_c h^2',r'100\\theta_{MC}',r'\\tau',r'{\\rm{ln}}(10^{10} A_s)',r'n_s',r'w_0',r'w_a', r'\\sigma_8',r'S_8',r'\\Omega_\\Lambda']\n",
    "samples0 = GaussianND(mean, cov,names = names, labels = labels, label = 'Planck')\n",
    "samples = GaussianND(mean, planck_rsd_cov,names = names, labels = labels, label = 'Planck+RSD')\n",
    "samples2 = GaussianND(mean,planck_rsd_ksz_cov,names = names, labels = labels, label = 'Planck+RSD+kSZ')\n",
    "\n",
    "\n",
    "#g.add_legend(['Base', 'Base+RSD', 'Base+RSD+kSZ'], colored_text=True)\n",
    "#g.add_legend(['Base', 'Base+RSD', 'Base+RSD+kSZ'], legend_loc='upper right');\n",
    "\n",
    "g = plots.get_single_plotter(width_inch=4, ratio=1)\n",
    "g.settings.figure_legend_frame = False\n",
    "g.settings.alpha_filled_add=0.8\n",
    "g.settings.title_limit_fontsize = 14\n",
    "g.plot_2d([samples0, samples, samples2], ['w_a','\\\\sigma_8'], filled=True, colors=[c2,c1,c3],lims=[-4, 1, 0.7, 0.9])\n",
    "g.add_legend(['Base', 'Base+RSD', 'Base+RSD+kSZ'],legend_loc='upper right');\n",
    "g.add_x_marker(-1.316)\n",
    "g.add_y_marker(0.795)\n",
    "#    markers={'w_0':-0.577, 'w_a':-1.316,'\\\\sigma_8':0.795, 'S_8':0.847, '\\Omega_\\Lambda': 0.658}\n",
    "    #-0.57779661, -1.31630327,  0.79547449,  0.8475389 , 0.65833267\n",
    "\n",
    "\n",
    "for ax in g.subplots[:, :].flat:\n",
    "    if ax is not None:  # check ax is None or not\n",
    "        ax.minorticks_on()\n",
    "        ax.tick_params(which='both', direction='in', top=True, right=True)\n",
    "        ax.tick_params(which='minor', length=4)\n",
    "        ax.tick_params(which='major', length=7)\n",
    "            \n",
    "g.export('cpl_use_ppt2.pdf')"
   ]
  },
  {
   "cell_type": "code",
   "execution_count": null,
   "metadata": {},
   "outputs": [],
   "source": []
  }
 ],
 "metadata": {
  "kernelspec": {
   "display_name": "base",
   "language": "python",
   "name": "python3"
  },
  "language_info": {
   "codemirror_mode": {
    "name": "ipython",
    "version": 3
   },
   "file_extension": ".py",
   "mimetype": "text/x-python",
   "name": "python",
   "nbconvert_exporter": "python",
   "pygments_lexer": "ipython3",
   "version": "3.12.2"
  }
 },
 "nbformat": 4,
 "nbformat_minor": 2
}
